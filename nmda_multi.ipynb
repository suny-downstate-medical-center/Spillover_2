{
 "cells": [
  {
   "cell_type": "code",
   "execution_count": 1,
   "id": "6ba35c98-a5ca-4e84-89a3-819c5ab2aebf",
   "metadata": {},
   "outputs": [
    {
     "name": "stdout",
     "output_type": "stream",
     "text": [
      "IT WASN'T JUST A PUPPYIT WASN'T JUST A PUPPY\n",
      "\n",
      "YOU WANTED ME BACK...YOU WANTED ME BACK...\n",
      "\n",
      "IT WASN'T JUST A PUPPY\n",
      "YOU WANTED ME BACK...\n",
      "['Hello: john_wick_1', 'Hello: john_wick_1', 'Hello: john_wick_3']\n",
      "Completed in 2.0405099391937256 seconds\n"
     ]
    }
   ],
   "source": [
    "from multiprocessing import Pool\n",
    "import os\n",
    "import time\n",
    "\n",
    "\n",
    "def run_sim(neuron_id,neuron_name,archive,length,cell_type_val):\n",
    "    print(neuron_id,neuron_name,archive,length,cell_type_val)\n",
    "    process = subprocess.Popen(['python', 'nmda_test_x.py',neuron_id, neuron_name, archive, length, cell_type_val], stdout=subprocess.PIPE, stderr=subprocess.PIPE)\n",
    "    stdout, stderr = process.communicate()    \n",
    "    return \"finished\"\n",
    "\n",
    "def process_cells():\n",
    "    tic = time.time()\n",
    "    pool = Pool(processes=os.cpu_count())\n",
    "      \n",
    "    df = pd.read_csv('soma.tsv',index_col=None, sep=\"\\t\")\n",
    "       \n",
    "    for index,row in df.iterrows():\n",
    "\n",
    "        neuron_id = row['neuron_id']\n",
    "        neuron_name = row['neuron_name']\n",
    "        print (neuron_name)\n",
    "        archive = row['archive']\n",
    "        length = row['length']\n",
    "        cell_type_val = row['cell_type_val']\n",
    "        \n",
    "        if length < 4000: \n",
    "            continue\n",
    "            \n",
    "        result = pool.apply_async(run_sim, args=(neuron_id,neuron_name,archive,length,cell_type_val))\n",
    "        results.append(result)\n",
    "\n",
    "    pool.close()\n",
    "    pool.join()\n",
    "\n",
    "    # results = [r.get() for r in res]\n",
    "    print(results)\n",
    "    toc = time.time()\n",
    "    print(f'Completed in {toc - tic} seconds')\n",
    "\n",
    "if __name__ == '__main__':\n",
    "        process_cells()\n"
   ]
  },
  {
   "cell_type": "code",
   "execution_count": null,
   "id": "0ad3817f-82d0-426b-8c48-8cc3e1ddc702",
   "metadata": {},
   "outputs": [],
   "source": []
  }
 ],
 "metadata": {
  "kernelspec": {
   "display_name": "Python 3 (ipykernel)",
   "language": "python",
   "name": "python3"
  },
  "language_info": {
   "codemirror_mode": {
    "name": "ipython",
    "version": 3
   },
   "file_extension": ".py",
   "mimetype": "text/x-python",
   "name": "python",
   "nbconvert_exporter": "python",
   "pygments_lexer": "ipython3",
   "version": "3.12.3"
  }
 },
 "nbformat": 4,
 "nbformat_minor": 5
}
